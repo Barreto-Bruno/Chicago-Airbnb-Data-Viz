{
 "cells": [
  {
   "cell_type": "markdown",
   "metadata": {},
   "source": [
    "# Chicago Airbnb Data Exploration\n",
    "\n",
    "## Preliminary Wrangling\n",
    "\n",
    "This dataset including the information about the hosts, the information about the position of the Airbnb( neighborhood, latitude, longitude) which can use for map plot, describe of the room, and price, etc. Which will be a good dataset for data visualization and prediction."
   ]
  },
  {
   "cell_type": "code",
   "execution_count": 1,
   "metadata": {},
   "outputs": [],
   "source": [
    "import numpy as np\n",
    "import pandas as pd\n",
    "import matplotlib.pyplot as plt\n",
    "import seaborn as sb\n",
    "\n",
    "%matplotlib inline"
   ]
  },
  {
   "cell_type": "code",
   "execution_count": 2,
   "metadata": {},
   "outputs": [],
   "source": [
    "df=pd.read_csv('listings.csv')"
   ]
  },
  {
   "cell_type": "code",
   "execution_count": 3,
   "metadata": {},
   "outputs": [
    {
     "data": {
      "text/html": [
       "<div>\n",
       "<style scoped>\n",
       "    .dataframe tbody tr th:only-of-type {\n",
       "        vertical-align: middle;\n",
       "    }\n",
       "\n",
       "    .dataframe tbody tr th {\n",
       "        vertical-align: top;\n",
       "    }\n",
       "\n",
       "    .dataframe thead th {\n",
       "        text-align: right;\n",
       "    }\n",
       "</style>\n",
       "<table border=\"1\" class=\"dataframe\">\n",
       "  <thead>\n",
       "    <tr style=\"text-align: right;\">\n",
       "      <th></th>\n",
       "      <th>id</th>\n",
       "      <th>name</th>\n",
       "      <th>host_id</th>\n",
       "      <th>host_name</th>\n",
       "      <th>neighbourhood_group</th>\n",
       "      <th>neighbourhood</th>\n",
       "      <th>latitude</th>\n",
       "      <th>longitude</th>\n",
       "      <th>room_type</th>\n",
       "      <th>price</th>\n",
       "      <th>minimum_nights</th>\n",
       "      <th>number_of_reviews</th>\n",
       "      <th>last_review</th>\n",
       "      <th>reviews_per_month</th>\n",
       "      <th>calculated_host_listings_count</th>\n",
       "      <th>availability_365</th>\n",
       "    </tr>\n",
       "  </thead>\n",
       "  <tbody>\n",
       "    <tr>\n",
       "      <th>0</th>\n",
       "      <td>2384</td>\n",
       "      <td>Hyde Park - Walk to UChicago, 10 min to McCormick</td>\n",
       "      <td>2613</td>\n",
       "      <td>Rebecca</td>\n",
       "      <td>NaN</td>\n",
       "      <td>Hyde Park</td>\n",
       "      <td>41.78790</td>\n",
       "      <td>-87.58780</td>\n",
       "      <td>Private room</td>\n",
       "      <td>60</td>\n",
       "      <td>2</td>\n",
       "      <td>178</td>\n",
       "      <td>2019-12-15</td>\n",
       "      <td>2.56</td>\n",
       "      <td>1</td>\n",
       "      <td>353</td>\n",
       "    </tr>\n",
       "    <tr>\n",
       "      <th>1</th>\n",
       "      <td>4505</td>\n",
       "      <td>394 Great Reviews. 127 y/o House. 40 yds to tr...</td>\n",
       "      <td>5775</td>\n",
       "      <td>Craig &amp; Kathleen</td>\n",
       "      <td>NaN</td>\n",
       "      <td>South Lawndale</td>\n",
       "      <td>41.85495</td>\n",
       "      <td>-87.69696</td>\n",
       "      <td>Entire home/apt</td>\n",
       "      <td>105</td>\n",
       "      <td>2</td>\n",
       "      <td>395</td>\n",
       "      <td>2020-07-14</td>\n",
       "      <td>2.81</td>\n",
       "      <td>1</td>\n",
       "      <td>155</td>\n",
       "    </tr>\n",
       "    <tr>\n",
       "      <th>2</th>\n",
       "      <td>7126</td>\n",
       "      <td>Tiny Studio Apartment 94 Walk Score</td>\n",
       "      <td>17928</td>\n",
       "      <td>Sarah</td>\n",
       "      <td>NaN</td>\n",
       "      <td>West Town</td>\n",
       "      <td>41.90289</td>\n",
       "      <td>-87.68182</td>\n",
       "      <td>Entire home/apt</td>\n",
       "      <td>60</td>\n",
       "      <td>2</td>\n",
       "      <td>384</td>\n",
       "      <td>2020-03-08</td>\n",
       "      <td>2.81</td>\n",
       "      <td>1</td>\n",
       "      <td>321</td>\n",
       "    </tr>\n",
       "    <tr>\n",
       "      <th>3</th>\n",
       "      <td>9811</td>\n",
       "      <td>Barbara's Hideaway - Old Town</td>\n",
       "      <td>33004</td>\n",
       "      <td>At Home Inn</td>\n",
       "      <td>NaN</td>\n",
       "      <td>Lincoln Park</td>\n",
       "      <td>41.91769</td>\n",
       "      <td>-87.63788</td>\n",
       "      <td>Entire home/apt</td>\n",
       "      <td>65</td>\n",
       "      <td>4</td>\n",
       "      <td>49</td>\n",
       "      <td>2019-10-23</td>\n",
       "      <td>0.63</td>\n",
       "      <td>9</td>\n",
       "      <td>300</td>\n",
       "    </tr>\n",
       "    <tr>\n",
       "      <th>4</th>\n",
       "      <td>10610</td>\n",
       "      <td>3 Comforts of Cooperative Living</td>\n",
       "      <td>2140</td>\n",
       "      <td>Lois</td>\n",
       "      <td>NaN</td>\n",
       "      <td>Hyde Park</td>\n",
       "      <td>41.79612</td>\n",
       "      <td>-87.59261</td>\n",
       "      <td>Private room</td>\n",
       "      <td>21</td>\n",
       "      <td>1</td>\n",
       "      <td>44</td>\n",
       "      <td>2020-02-14</td>\n",
       "      <td>0.61</td>\n",
       "      <td>5</td>\n",
       "      <td>168</td>\n",
       "    </tr>\n",
       "  </tbody>\n",
       "</table>\n",
       "</div>"
      ],
      "text/plain": [
       "      id                                               name  host_id  \\\n",
       "0   2384  Hyde Park - Walk to UChicago, 10 min to McCormick     2613   \n",
       "1   4505  394 Great Reviews. 127 y/o House. 40 yds to tr...     5775   \n",
       "2   7126                Tiny Studio Apartment 94 Walk Score    17928   \n",
       "3   9811                      Barbara's Hideaway - Old Town    33004   \n",
       "4  10610                   3 Comforts of Cooperative Living     2140   \n",
       "\n",
       "          host_name  neighbourhood_group   neighbourhood  latitude  longitude  \\\n",
       "0           Rebecca                  NaN       Hyde Park  41.78790  -87.58780   \n",
       "1  Craig & Kathleen                  NaN  South Lawndale  41.85495  -87.69696   \n",
       "2             Sarah                  NaN       West Town  41.90289  -87.68182   \n",
       "3       At Home Inn                  NaN    Lincoln Park  41.91769  -87.63788   \n",
       "4              Lois                  NaN       Hyde Park  41.79612  -87.59261   \n",
       "\n",
       "         room_type  price  minimum_nights  number_of_reviews last_review  \\\n",
       "0     Private room     60               2                178  2019-12-15   \n",
       "1  Entire home/apt    105               2                395  2020-07-14   \n",
       "2  Entire home/apt     60               2                384  2020-03-08   \n",
       "3  Entire home/apt     65               4                 49  2019-10-23   \n",
       "4     Private room     21               1                 44  2020-02-14   \n",
       "\n",
       "   reviews_per_month  calculated_host_listings_count  availability_365  \n",
       "0               2.56                               1               353  \n",
       "1               2.81                               1               155  \n",
       "2               2.81                               1               321  \n",
       "3               0.63                               9               300  \n",
       "4               0.61                               5               168  "
      ]
     },
     "execution_count": 3,
     "metadata": {},
     "output_type": "execute_result"
    }
   ],
   "source": [
    "df.head()"
   ]
  },
  {
   "cell_type": "code",
   "execution_count": 4,
   "metadata": {},
   "outputs": [
    {
     "data": {
      "text/plain": [
       "Entire home/apt    4401\n",
       "Private room       1833\n",
       "Shared room          90\n",
       "Hotel room           73\n",
       "Name: room_type, dtype: int64"
      ]
     },
     "execution_count": 4,
     "metadata": {},
     "output_type": "execute_result"
    }
   ],
   "source": [
    "df['room_type'].value_counts()"
   ]
  },
  {
   "cell_type": "code",
   "execution_count": 5,
   "metadata": {},
   "outputs": [
    {
     "name": "stdout",
     "output_type": "stream",
     "text": [
      "<class 'pandas.core.frame.DataFrame'>\n",
      "RangeIndex: 6397 entries, 0 to 6396\n",
      "Data columns (total 16 columns):\n",
      " #   Column                          Non-Null Count  Dtype  \n",
      "---  ------                          --------------  -----  \n",
      " 0   id                              6397 non-null   int64  \n",
      " 1   name                            6397 non-null   object \n",
      " 2   host_id                         6397 non-null   int64  \n",
      " 3   host_name                       6397 non-null   object \n",
      " 4   neighbourhood_group             0 non-null      float64\n",
      " 5   neighbourhood                   6397 non-null   object \n",
      " 6   latitude                        6397 non-null   float64\n",
      " 7   longitude                       6397 non-null   float64\n",
      " 8   room_type                       6397 non-null   object \n",
      " 9   price                           6397 non-null   int64  \n",
      " 10  minimum_nights                  6397 non-null   int64  \n",
      " 11  number_of_reviews               6397 non-null   int64  \n",
      " 12  last_review                     5265 non-null   object \n",
      " 13  reviews_per_month               5265 non-null   float64\n",
      " 14  calculated_host_listings_count  6397 non-null   int64  \n",
      " 15  availability_365                6397 non-null   int64  \n",
      "dtypes: float64(4), int64(7), object(5)\n",
      "memory usage: 799.8+ KB\n"
     ]
    }
   ],
   "source": [
    "df.info()"
   ]
  },
  {
   "cell_type": "code",
   "execution_count": 6,
   "metadata": {},
   "outputs": [
    {
     "data": {
      "text/plain": [
       "id                                   0\n",
       "name                                 0\n",
       "host_id                              0\n",
       "host_name                            0\n",
       "neighbourhood_group               6397\n",
       "neighbourhood                        0\n",
       "latitude                             0\n",
       "longitude                            0\n",
       "room_type                            0\n",
       "price                                0\n",
       "minimum_nights                       0\n",
       "number_of_reviews                    0\n",
       "last_review                       1132\n",
       "reviews_per_month                 1132\n",
       "calculated_host_listings_count       0\n",
       "availability_365                     0\n",
       "dtype: int64"
      ]
     },
     "execution_count": 6,
     "metadata": {},
     "output_type": "execute_result"
    }
   ],
   "source": [
    "df.isnull().sum()"
   ]
  },
  {
   "cell_type": "code",
   "execution_count": 7,
   "metadata": {},
   "outputs": [
    {
     "data": {
      "text/plain": [
       "0"
      ]
     },
     "execution_count": 7,
     "metadata": {},
     "output_type": "execute_result"
    }
   ],
   "source": [
    "df.duplicated().sum()"
   ]
  },
  {
   "cell_type": "code",
   "execution_count": 8,
   "metadata": {},
   "outputs": [
    {
     "data": {
      "text/plain": [
       "(6397, 16)"
      ]
     },
     "execution_count": 8,
     "metadata": {},
     "output_type": "execute_result"
    }
   ],
   "source": [
    "df.shape"
   ]
  },
  {
   "cell_type": "code",
   "execution_count": 9,
   "metadata": {},
   "outputs": [
    {
     "data": {
      "text/html": [
       "<div>\n",
       "<style scoped>\n",
       "    .dataframe tbody tr th:only-of-type {\n",
       "        vertical-align: middle;\n",
       "    }\n",
       "\n",
       "    .dataframe tbody tr th {\n",
       "        vertical-align: top;\n",
       "    }\n",
       "\n",
       "    .dataframe thead th {\n",
       "        text-align: right;\n",
       "    }\n",
       "</style>\n",
       "<table border=\"1\" class=\"dataframe\">\n",
       "  <thead>\n",
       "    <tr style=\"text-align: right;\">\n",
       "      <th></th>\n",
       "      <th>id</th>\n",
       "      <th>host_id</th>\n",
       "      <th>neighbourhood_group</th>\n",
       "      <th>latitude</th>\n",
       "      <th>longitude</th>\n",
       "      <th>price</th>\n",
       "      <th>minimum_nights</th>\n",
       "      <th>number_of_reviews</th>\n",
       "      <th>reviews_per_month</th>\n",
       "      <th>calculated_host_listings_count</th>\n",
       "      <th>availability_365</th>\n",
       "    </tr>\n",
       "  </thead>\n",
       "  <tbody>\n",
       "    <tr>\n",
       "      <th>count</th>\n",
       "      <td>6.397000e+03</td>\n",
       "      <td>6.397000e+03</td>\n",
       "      <td>0.0</td>\n",
       "      <td>6397.000000</td>\n",
       "      <td>6397.000000</td>\n",
       "      <td>6397.000000</td>\n",
       "      <td>6397.000000</td>\n",
       "      <td>6397.000000</td>\n",
       "      <td>5265.000000</td>\n",
       "      <td>6397.000000</td>\n",
       "      <td>6397.000000</td>\n",
       "    </tr>\n",
       "    <tr>\n",
       "      <th>mean</th>\n",
       "      <td>2.813857e+07</td>\n",
       "      <td>9.850262e+07</td>\n",
       "      <td>NaN</td>\n",
       "      <td>41.899049</td>\n",
       "      <td>-87.664042</td>\n",
       "      <td>153.020009</td>\n",
       "      <td>8.113178</td>\n",
       "      <td>42.753791</td>\n",
       "      <td>1.745280</td>\n",
       "      <td>13.598718</td>\n",
       "      <td>174.272159</td>\n",
       "    </tr>\n",
       "    <tr>\n",
       "      <th>std</th>\n",
       "      <td>1.288337e+07</td>\n",
       "      <td>9.990222e+07</td>\n",
       "      <td>NaN</td>\n",
       "      <td>0.058929</td>\n",
       "      <td>0.042414</td>\n",
       "      <td>376.207706</td>\n",
       "      <td>22.786856</td>\n",
       "      <td>67.051609</td>\n",
       "      <td>1.745491</td>\n",
       "      <td>37.180574</td>\n",
       "      <td>138.877601</td>\n",
       "    </tr>\n",
       "    <tr>\n",
       "      <th>min</th>\n",
       "      <td>2.384000e+03</td>\n",
       "      <td>2.140000e+03</td>\n",
       "      <td>NaN</td>\n",
       "      <td>41.647360</td>\n",
       "      <td>-87.846810</td>\n",
       "      <td>0.000000</td>\n",
       "      <td>1.000000</td>\n",
       "      <td>0.000000</td>\n",
       "      <td>0.020000</td>\n",
       "      <td>1.000000</td>\n",
       "      <td>0.000000</td>\n",
       "    </tr>\n",
       "    <tr>\n",
       "      <th>25%</th>\n",
       "      <td>1.875555e+07</td>\n",
       "      <td>1.705221e+07</td>\n",
       "      <td>NaN</td>\n",
       "      <td>41.872740</td>\n",
       "      <td>-87.687460</td>\n",
       "      <td>64.000000</td>\n",
       "      <td>1.000000</td>\n",
       "      <td>2.000000</td>\n",
       "      <td>0.430000</td>\n",
       "      <td>1.000000</td>\n",
       "      <td>36.000000</td>\n",
       "    </tr>\n",
       "    <tr>\n",
       "      <th>50%</th>\n",
       "      <td>2.994743e+07</td>\n",
       "      <td>5.738786e+07</td>\n",
       "      <td>NaN</td>\n",
       "      <td>41.901860</td>\n",
       "      <td>-87.660880</td>\n",
       "      <td>99.000000</td>\n",
       "      <td>2.000000</td>\n",
       "      <td>15.000000</td>\n",
       "      <td>1.230000</td>\n",
       "      <td>2.000000</td>\n",
       "      <td>161.000000</td>\n",
       "    </tr>\n",
       "    <tr>\n",
       "      <th>75%</th>\n",
       "      <td>3.959279e+07</td>\n",
       "      <td>1.580558e+08</td>\n",
       "      <td>NaN</td>\n",
       "      <td>41.939780</td>\n",
       "      <td>-87.633160</td>\n",
       "      <td>155.000000</td>\n",
       "      <td>3.000000</td>\n",
       "      <td>56.000000</td>\n",
       "      <td>2.570000</td>\n",
       "      <td>7.000000</td>\n",
       "      <td>329.000000</td>\n",
       "    </tr>\n",
       "    <tr>\n",
       "      <th>max</th>\n",
       "      <td>4.551558e+07</td>\n",
       "      <td>3.679071e+08</td>\n",
       "      <td>NaN</td>\n",
       "      <td>42.022510</td>\n",
       "      <td>-87.537520</td>\n",
       "      <td>10000.000000</td>\n",
       "      <td>500.000000</td>\n",
       "      <td>632.000000</td>\n",
       "      <td>32.430000</td>\n",
       "      <td>205.000000</td>\n",
       "      <td>365.000000</td>\n",
       "    </tr>\n",
       "  </tbody>\n",
       "</table>\n",
       "</div>"
      ],
      "text/plain": [
       "                 id       host_id  neighbourhood_group     latitude  \\\n",
       "count  6.397000e+03  6.397000e+03                  0.0  6397.000000   \n",
       "mean   2.813857e+07  9.850262e+07                  NaN    41.899049   \n",
       "std    1.288337e+07  9.990222e+07                  NaN     0.058929   \n",
       "min    2.384000e+03  2.140000e+03                  NaN    41.647360   \n",
       "25%    1.875555e+07  1.705221e+07                  NaN    41.872740   \n",
       "50%    2.994743e+07  5.738786e+07                  NaN    41.901860   \n",
       "75%    3.959279e+07  1.580558e+08                  NaN    41.939780   \n",
       "max    4.551558e+07  3.679071e+08                  NaN    42.022510   \n",
       "\n",
       "         longitude         price  minimum_nights  number_of_reviews  \\\n",
       "count  6397.000000   6397.000000     6397.000000        6397.000000   \n",
       "mean    -87.664042    153.020009        8.113178          42.753791   \n",
       "std       0.042414    376.207706       22.786856          67.051609   \n",
       "min     -87.846810      0.000000        1.000000           0.000000   \n",
       "25%     -87.687460     64.000000        1.000000           2.000000   \n",
       "50%     -87.660880     99.000000        2.000000          15.000000   \n",
       "75%     -87.633160    155.000000        3.000000          56.000000   \n",
       "max     -87.537520  10000.000000      500.000000         632.000000   \n",
       "\n",
       "       reviews_per_month  calculated_host_listings_count  availability_365  \n",
       "count        5265.000000                     6397.000000       6397.000000  \n",
       "mean            1.745280                       13.598718        174.272159  \n",
       "std             1.745491                       37.180574        138.877601  \n",
       "min             0.020000                        1.000000          0.000000  \n",
       "25%             0.430000                        1.000000         36.000000  \n",
       "50%             1.230000                        2.000000        161.000000  \n",
       "75%             2.570000                        7.000000        329.000000  \n",
       "max            32.430000                      205.000000        365.000000  "
      ]
     },
     "execution_count": 9,
     "metadata": {},
     "output_type": "execute_result"
    }
   ],
   "source": [
    "df.describe()"
   ]
  },
  {
   "cell_type": "markdown",
   "metadata": {},
   "source": [
    "## Cleaning data\n",
    "\n",
    "The observations that we can conclude about the data:\n",
    "- Columns with wrong data types\n",
    "- Column \"neighbourhood_group\" only has missing values\n",
    "- Some Collumns has missing values"
   ]
  },
  {
   "cell_type": "code",
   "execution_count": 10,
   "metadata": {},
   "outputs": [],
   "source": [
    "df_clean = df.copy()"
   ]
  },
  {
   "cell_type": "markdown",
   "metadata": {},
   "source": [
    "### Columns with wrong data types\n",
    "\n",
    "#### Define\n",
    "Fix data types of the following columns:\n",
    "- id\n",
    "- host_id\n",
    "- last_review\n",
    "- room_type"
   ]
  },
  {
   "cell_type": "markdown",
   "metadata": {},
   "source": [
    " #### Code"
   ]
  },
  {
   "cell_type": "code",
   "execution_count": 11,
   "metadata": {},
   "outputs": [],
   "source": [
    "df_clean['id'] = df_clean['id'].astype('str')\n",
    "df_clean['host_id'] = df_clean['host_id'].astype('str')\n",
    "df_clean['last_review'] = pd.to_datetime(df_clean['last_review'])\n",
    "df_clean['room_type'] = df_clean['room_type'].astype('category')"
   ]
  },
  {
   "cell_type": "markdown",
   "metadata": {},
   "source": [
    "#### Test"
   ]
  },
  {
   "cell_type": "code",
   "execution_count": 12,
   "metadata": {},
   "outputs": [
    {
     "name": "stdout",
     "output_type": "stream",
     "text": [
      "<class 'pandas.core.frame.DataFrame'>\n",
      "RangeIndex: 6397 entries, 0 to 6396\n",
      "Data columns (total 16 columns):\n",
      " #   Column                          Non-Null Count  Dtype         \n",
      "---  ------                          --------------  -----         \n",
      " 0   id                              6397 non-null   object        \n",
      " 1   name                            6397 non-null   object        \n",
      " 2   host_id                         6397 non-null   object        \n",
      " 3   host_name                       6397 non-null   object        \n",
      " 4   neighbourhood_group             0 non-null      float64       \n",
      " 5   neighbourhood                   6397 non-null   object        \n",
      " 6   latitude                        6397 non-null   float64       \n",
      " 7   longitude                       6397 non-null   float64       \n",
      " 8   room_type                       6397 non-null   category      \n",
      " 9   price                           6397 non-null   int64         \n",
      " 10  minimum_nights                  6397 non-null   int64         \n",
      " 11  number_of_reviews               6397 non-null   int64         \n",
      " 12  last_review                     5265 non-null   datetime64[ns]\n",
      " 13  reviews_per_month               5265 non-null   float64       \n",
      " 14  calculated_host_listings_count  6397 non-null   int64         \n",
      " 15  availability_365                6397 non-null   int64         \n",
      "dtypes: category(1), datetime64[ns](1), float64(4), int64(5), object(5)\n",
      "memory usage: 756.2+ KB\n"
     ]
    }
   ],
   "source": [
    "df_clean.info()"
   ]
  },
  {
   "cell_type": "markdown",
   "metadata": {},
   "source": [
    "#### Define\n",
    "\n",
    "Drop collumn \"neighbourhood_group\", because there is only missing values"
   ]
  },
  {
   "cell_type": "markdown",
   "metadata": {},
   "source": [
    "#### Code"
   ]
  },
  {
   "cell_type": "code",
   "execution_count": 13,
   "metadata": {},
   "outputs": [],
   "source": [
    "df_clean = df_clean.drop(columns = 'neighbourhood_group')"
   ]
  },
  {
   "cell_type": "markdown",
   "metadata": {},
   "source": [
    "#### Test"
   ]
  },
  {
   "cell_type": "code",
   "execution_count": 14,
   "metadata": {},
   "outputs": [
    {
     "name": "stdout",
     "output_type": "stream",
     "text": [
      "<class 'pandas.core.frame.DataFrame'>\n",
      "RangeIndex: 6397 entries, 0 to 6396\n",
      "Data columns (total 15 columns):\n",
      " #   Column                          Non-Null Count  Dtype         \n",
      "---  ------                          --------------  -----         \n",
      " 0   id                              6397 non-null   object        \n",
      " 1   name                            6397 non-null   object        \n",
      " 2   host_id                         6397 non-null   object        \n",
      " 3   host_name                       6397 non-null   object        \n",
      " 4   neighbourhood                   6397 non-null   object        \n",
      " 5   latitude                        6397 non-null   float64       \n",
      " 6   longitude                       6397 non-null   float64       \n",
      " 7   room_type                       6397 non-null   category      \n",
      " 8   price                           6397 non-null   int64         \n",
      " 9   minimum_nights                  6397 non-null   int64         \n",
      " 10  number_of_reviews               6397 non-null   int64         \n",
      " 11  last_review                     5265 non-null   datetime64[ns]\n",
      " 12  reviews_per_month               5265 non-null   float64       \n",
      " 13  calculated_host_listings_count  6397 non-null   int64         \n",
      " 14  availability_365                6397 non-null   int64         \n",
      "dtypes: category(1), datetime64[ns](1), float64(3), int64(5), object(5)\n",
      "memory usage: 706.2+ KB\n"
     ]
    }
   ],
   "source": [
    "df_clean.info()"
   ]
  },
  {
   "cell_type": "markdown",
   "metadata": {},
   "source": [
    "#### Define\n",
    "\n",
    "Drop missing values"
   ]
  },
  {
   "cell_type": "markdown",
   "metadata": {},
   "source": [
    "#### Code"
   ]
  },
  {
   "cell_type": "code",
   "execution_count": 15,
   "metadata": {},
   "outputs": [],
   "source": [
    "df2 = df_clean.dropna()"
   ]
  },
  {
   "cell_type": "markdown",
   "metadata": {},
   "source": [
    "#### Test"
   ]
  },
  {
   "cell_type": "code",
   "execution_count": 16,
   "metadata": {},
   "outputs": [
    {
     "data": {
      "text/plain": [
       "id                                0\n",
       "name                              0\n",
       "host_id                           0\n",
       "host_name                         0\n",
       "neighbourhood                     0\n",
       "latitude                          0\n",
       "longitude                         0\n",
       "room_type                         0\n",
       "price                             0\n",
       "minimum_nights                    0\n",
       "number_of_reviews                 0\n",
       "last_review                       0\n",
       "reviews_per_month                 0\n",
       "calculated_host_listings_count    0\n",
       "availability_365                  0\n",
       "dtype: int64"
      ]
     },
     "execution_count": 16,
     "metadata": {},
     "output_type": "execute_result"
    }
   ],
   "source": [
    "df2.isnull().sum()"
   ]
  },
  {
   "cell_type": "code",
   "execution_count": 17,
   "metadata": {},
   "outputs": [
    {
     "data": {
      "text/plain": [
       "(5265, 15)"
      ]
     },
     "execution_count": 17,
     "metadata": {},
     "output_type": "execute_result"
    }
   ],
   "source": [
    "df2.shape"
   ]
  },
  {
   "cell_type": "code",
   "execution_count": 18,
   "metadata": {
    "scrolled": false
   },
   "outputs": [
    {
     "data": {
      "text/html": [
       "<div>\n",
       "<style scoped>\n",
       "    .dataframe tbody tr th:only-of-type {\n",
       "        vertical-align: middle;\n",
       "    }\n",
       "\n",
       "    .dataframe tbody tr th {\n",
       "        vertical-align: top;\n",
       "    }\n",
       "\n",
       "    .dataframe thead th {\n",
       "        text-align: right;\n",
       "    }\n",
       "</style>\n",
       "<table border=\"1\" class=\"dataframe\">\n",
       "  <thead>\n",
       "    <tr style=\"text-align: right;\">\n",
       "      <th></th>\n",
       "      <th>id</th>\n",
       "      <th>name</th>\n",
       "      <th>host_id</th>\n",
       "      <th>host_name</th>\n",
       "      <th>neighbourhood</th>\n",
       "      <th>latitude</th>\n",
       "      <th>longitude</th>\n",
       "      <th>room_type</th>\n",
       "      <th>price</th>\n",
       "      <th>minimum_nights</th>\n",
       "      <th>number_of_reviews</th>\n",
       "      <th>last_review</th>\n",
       "      <th>reviews_per_month</th>\n",
       "      <th>calculated_host_listings_count</th>\n",
       "      <th>availability_365</th>\n",
       "    </tr>\n",
       "  </thead>\n",
       "  <tbody>\n",
       "    <tr>\n",
       "      <th>0</th>\n",
       "      <td>2384</td>\n",
       "      <td>Hyde Park - Walk to UChicago, 10 min to McCormick</td>\n",
       "      <td>2613</td>\n",
       "      <td>Rebecca</td>\n",
       "      <td>Hyde Park</td>\n",
       "      <td>41.78790</td>\n",
       "      <td>-87.58780</td>\n",
       "      <td>Private room</td>\n",
       "      <td>60</td>\n",
       "      <td>2</td>\n",
       "      <td>178</td>\n",
       "      <td>2019-12-15</td>\n",
       "      <td>2.56</td>\n",
       "      <td>1</td>\n",
       "      <td>353</td>\n",
       "    </tr>\n",
       "    <tr>\n",
       "      <th>1</th>\n",
       "      <td>4505</td>\n",
       "      <td>394 Great Reviews. 127 y/o House. 40 yds to tr...</td>\n",
       "      <td>5775</td>\n",
       "      <td>Craig &amp; Kathleen</td>\n",
       "      <td>South Lawndale</td>\n",
       "      <td>41.85495</td>\n",
       "      <td>-87.69696</td>\n",
       "      <td>Entire home/apt</td>\n",
       "      <td>105</td>\n",
       "      <td>2</td>\n",
       "      <td>395</td>\n",
       "      <td>2020-07-14</td>\n",
       "      <td>2.81</td>\n",
       "      <td>1</td>\n",
       "      <td>155</td>\n",
       "    </tr>\n",
       "    <tr>\n",
       "      <th>2</th>\n",
       "      <td>7126</td>\n",
       "      <td>Tiny Studio Apartment 94 Walk Score</td>\n",
       "      <td>17928</td>\n",
       "      <td>Sarah</td>\n",
       "      <td>West Town</td>\n",
       "      <td>41.90289</td>\n",
       "      <td>-87.68182</td>\n",
       "      <td>Entire home/apt</td>\n",
       "      <td>60</td>\n",
       "      <td>2</td>\n",
       "      <td>384</td>\n",
       "      <td>2020-03-08</td>\n",
       "      <td>2.81</td>\n",
       "      <td>1</td>\n",
       "      <td>321</td>\n",
       "    </tr>\n",
       "    <tr>\n",
       "      <th>3</th>\n",
       "      <td>9811</td>\n",
       "      <td>Barbara's Hideaway - Old Town</td>\n",
       "      <td>33004</td>\n",
       "      <td>At Home Inn</td>\n",
       "      <td>Lincoln Park</td>\n",
       "      <td>41.91769</td>\n",
       "      <td>-87.63788</td>\n",
       "      <td>Entire home/apt</td>\n",
       "      <td>65</td>\n",
       "      <td>4</td>\n",
       "      <td>49</td>\n",
       "      <td>2019-10-23</td>\n",
       "      <td>0.63</td>\n",
       "      <td>9</td>\n",
       "      <td>300</td>\n",
       "    </tr>\n",
       "    <tr>\n",
       "      <th>4</th>\n",
       "      <td>10610</td>\n",
       "      <td>3 Comforts of Cooperative Living</td>\n",
       "      <td>2140</td>\n",
       "      <td>Lois</td>\n",
       "      <td>Hyde Park</td>\n",
       "      <td>41.79612</td>\n",
       "      <td>-87.59261</td>\n",
       "      <td>Private room</td>\n",
       "      <td>21</td>\n",
       "      <td>1</td>\n",
       "      <td>44</td>\n",
       "      <td>2020-02-14</td>\n",
       "      <td>0.61</td>\n",
       "      <td>5</td>\n",
       "      <td>168</td>\n",
       "    </tr>\n",
       "  </tbody>\n",
       "</table>\n",
       "</div>"
      ],
      "text/plain": [
       "      id                                               name host_id  \\\n",
       "0   2384  Hyde Park - Walk to UChicago, 10 min to McCormick    2613   \n",
       "1   4505  394 Great Reviews. 127 y/o House. 40 yds to tr...    5775   \n",
       "2   7126                Tiny Studio Apartment 94 Walk Score   17928   \n",
       "3   9811                      Barbara's Hideaway - Old Town   33004   \n",
       "4  10610                   3 Comforts of Cooperative Living    2140   \n",
       "\n",
       "          host_name   neighbourhood  latitude  longitude        room_type  \\\n",
       "0           Rebecca       Hyde Park  41.78790  -87.58780     Private room   \n",
       "1  Craig & Kathleen  South Lawndale  41.85495  -87.69696  Entire home/apt   \n",
       "2             Sarah       West Town  41.90289  -87.68182  Entire home/apt   \n",
       "3       At Home Inn    Lincoln Park  41.91769  -87.63788  Entire home/apt   \n",
       "4              Lois       Hyde Park  41.79612  -87.59261     Private room   \n",
       "\n",
       "   price  minimum_nights  number_of_reviews last_review  reviews_per_month  \\\n",
       "0     60               2                178  2019-12-15               2.56   \n",
       "1    105               2                395  2020-07-14               2.81   \n",
       "2     60               2                384  2020-03-08               2.81   \n",
       "3     65               4                 49  2019-10-23               0.63   \n",
       "4     21               1                 44  2020-02-14               0.61   \n",
       "\n",
       "   calculated_host_listings_count  availability_365  \n",
       "0                               1               353  \n",
       "1                               1               155  \n",
       "2                               1               321  \n",
       "3                               9               300  \n",
       "4                               5               168  "
      ]
     },
     "execution_count": 18,
     "metadata": {},
     "output_type": "execute_result"
    }
   ],
   "source": [
    "df2.head()"
   ]
  },
  {
   "cell_type": "code",
   "execution_count": 19,
   "metadata": {},
   "outputs": [
    {
     "data": {
      "text/plain": [
       "Index(['id', 'name', 'host_id', 'host_name', 'neighbourhood', 'latitude',\n",
       "       'longitude', 'room_type', 'price', 'minimum_nights',\n",
       "       'number_of_reviews', 'last_review', 'reviews_per_month',\n",
       "       'calculated_host_listings_count', 'availability_365'],\n",
       "      dtype='object')"
      ]
     },
     "execution_count": 19,
     "metadata": {},
     "output_type": "execute_result"
    }
   ],
   "source": [
    "df2.columns"
   ]
  },
  {
   "cell_type": "markdown",
   "metadata": {},
   "source": [
    "### What is the structure of your dataset?\n",
    "\n",
    "There are 5,265 airbnbs in the dataset with 15 features ('id', 'name', 'host_id', 'host_name', 'neighbourhood', 'latitude', 'longitude', 'room_type', 'price', 'minimum_nights', 'number_of_reviews', 'last_review', 'reviews_per_month', 'calculated_host_listings_count', 'availability_365') and 6 derived features ('age', 'duration_minute', 'start_date', 'start_hourofday', 'start_dayofweek', 'start_month').\n",
    "\n",
    "\n",
    "### What is/are the main feature(s) of interest in your dataset?\n",
    "\n",
    "I'm most interested in exploring the airbnb's price, and how it relate to the rest of features, such as room type, neighbourhood, latitude, and longitude. \n",
    "\n",
    "### What features in the dataset do you think will help support your investigation into your feature(s) of interest?\n",
    "\n",
    "I expect that features about location and room type will help support my investigation.\n",
    "\n",
    "## Univariate Exploration\n",
    "\n",
    "I'll start by looking at the distribution of price."
   ]
  },
  {
   "cell_type": "code",
   "execution_count": 20,
   "metadata": {},
   "outputs": [],
   "source": [
    "df_analytics = df2.copy()"
   ]
  },
  {
   "cell_type": "code",
   "execution_count": 21,
   "metadata": {},
   "outputs": [
    {
     "data": {
      "text/plain": [
       "count     5265.000000\n",
       "mean       145.279392\n",
       "std        367.265348\n",
       "min         10.000000\n",
       "50%         95.000000\n",
       "90%        250.000000\n",
       "max      10000.000000\n",
       "Name: price, dtype: float64"
      ]
     },
     "execution_count": 21,
     "metadata": {},
     "output_type": "execute_result"
    }
   ],
   "source": [
    "df_analytics['price'].describe(percentiles = [0.90])"
   ]
  },
  {
   "cell_type": "markdown",
   "metadata": {},
   "source": [
    "As the percentile 90 is less than 300, we can conclude that all cases above 300 dollars are outliers, so is better to drop them."
   ]
  },
  {
   "cell_type": "code",
   "execution_count": 22,
   "metadata": {},
   "outputs": [
    {
     "data": {
      "text/plain": [
       "(4897, 15)"
      ]
     },
     "execution_count": 22,
     "metadata": {},
     "output_type": "execute_result"
    }
   ],
   "source": [
    "#drop outliers\n",
    "df_analytics = df_analytics.query('price <= 300')\n",
    "df_analytics.shape"
   ]
  },
  {
   "cell_type": "code",
   "execution_count": 23,
   "metadata": {
    "scrolled": true
   },
   "outputs": [
    {
     "data": {
      "image/png": "[encoded data removed]",
      "text/plain": [
       "<Figure size 432x288 with 1 Axes>"
      ]
     },
     "metadata": {
      "needs_background": "light"
     },
     "output_type": "display_data"
    }
   ],
   "source": [
    "bins = np.arange(0, 300, 20)\n",
    "plt.hist(data=df_analytics, x='price', bins=bins);\n",
    "plt.xticks(bins, bins);\n",
    "plt.xlabel('Price');\n",
    "plt.ylabel('Count');"
   ]
  },
  {
   "cell_type": "markdown",
   "metadata": {},
   "source": [
    "We can conclude that there is more airbnbs with price between 60 and 80 dollars"
   ]
  },
  {
   "cell_type": "markdown",
   "metadata": {},
   "source": [
    "Now, look at the location, what are the latitude and longitude more common in the dataset?"
   ]
  },
  {
   "cell_type": "code",
   "execution_count": 24,
   "metadata": {},
   "outputs": [
    {
     "data": {
      "text/plain": [
       "count    4897.000000\n",
       "mean       41.900426\n",
       "std         0.060715\n",
       "min        41.651560\n",
       "25%        41.870530\n",
       "50%        41.906520\n",
       "75%        41.942010\n",
       "max        42.022510\n",
       "Name: latitude, dtype: float64"
      ]
     },
     "execution_count": 24,
     "metadata": {},
     "output_type": "execute_result"
    }
   ],
   "source": [
    "df_analytics['latitude'].describe()"
   ]
  },
  {
   "cell_type": "code",
   "execution_count": 25,
   "metadata": {},
   "outputs": [
    {
     "data": {
      "image/png": "[encoded data removed]",
      "text/plain": [
       "<Figure size 432x288 with 1 Axes>"
      ]
     },
     "metadata": {
      "needs_background": "light"
     },
     "output_type": "display_data"
    }
   ],
   "source": [
    "bins = np.arange(41, df_analytics['latitude'].max()+1 , 0.3)\n",
    "plt.hist(data=df_analytics, x='latitude', bins=bins);\n",
    "plt.xticks(bins);\n",
    "plt.xlabel('Latitude');\n",
    "plt.ylabel('Count');"
   ]
  },
  {
   "cell_type": "markdown",
   "metadata": {},
   "source": [
    "We can conclude that the most airbnbs are located between latitude 41.9 and 42.2."
   ]
  },
  {
   "cell_type": "code",
   "execution_count": 26,
   "metadata": {},
   "outputs": [
    {
     "data": {
      "text/plain": [
       "count    4897.000000\n",
       "mean      -87.667435\n",
       "std         0.043242\n",
       "min       -87.845270\n",
       "25%       -87.691550\n",
       "50%       -87.664820\n",
       "75%       -87.637040\n",
       "max       -87.537520\n",
       "Name: longitude, dtype: float64"
      ]
     },
     "execution_count": 26,
     "metadata": {},
     "output_type": "execute_result"
    }
   ],
   "source": [
    "df_analytics['longitude'].describe()"
   ]
  },
  {
   "cell_type": "code",
   "execution_count": 27,
   "metadata": {},
   "outputs": [
    {
     "data": {
      "image/png": "[encoded data removed]",
      "text/plain": [
       "<Figure size 576x432 with 1 Axes>"
      ]
     },
     "metadata": {
      "needs_background": "light"
     },
     "output_type": "display_data"
    }
   ],
   "source": [
    "plt.rcParams['figure.figsize'] = 8, 6\n",
    "bins = np.arange(-87.9, df_analytics['longitude'].max()+1 , 0.1)\n",
    "plt.hist(data=df_analytics, x='longitude', bins=bins);\n",
    "plt.xticks(bins);\n",
    "plt.xlabel('Longitude');\n",
    "plt.ylabel('Count');"
   ]
  },
  {
   "cell_type": "markdown",
   "metadata": {},
   "source": [
    "We can conclude that the most airbnbs are located between longitude -87.7 and -87.6.\n",
    "\n",
    "To sum up, the most commom airbnb is located between (41.9, -87.7) and (42.2, -87.6)."
   ]
  },
  {
   "cell_type": "markdown",
   "metadata": {},
   "source": [
    "Now, look at the room type, which room type is more common in the dataset?"
   ]
  },
  {
   "cell_type": "code",
   "execution_count": 28,
   "metadata": {},
   "outputs": [
    {
     "data": {
      "text/plain": [
       "Entire home/apt    3225\n",
       "Private room       1538\n",
       "Shared room          76\n",
       "Hotel room           58\n",
       "Name: room_type, dtype: int64"
      ]
     },
     "execution_count": 28,
     "metadata": {},
     "output_type": "execute_result"
    }
   ],
   "source": [
    "df_analytics['room_type'].value_counts()"
   ]
  },
  {
   "cell_type": "code",
   "execution_count": 29,
   "metadata": {},
   "outputs": [
    {
     "data": {
      "text/plain": [
       "Text(0.5, 1.0, 'Number of Airbnbs over Room type')"
      ]
     },
     "execution_count": 29,
     "metadata": {},
     "output_type": "execute_result"
    },
    {
     "data": {
      "image/png": "[encoded data removed]",
      "text/plain": [
       "<Figure size 576x432 with 1 Axes>"
      ]
     },
     "metadata": {
      "needs_background": "light"
     },
     "output_type": "display_data"
    }
   ],
   "source": [
    "base_color = sb.color_palette('colorblind')[0]\n",
    "sb.countplot(data=df_analytics, x='room_type', color=base_color);\n",
    "plt.xlabel('Room Type');\n",
    "plt.ylabel('Count');\n",
    "plt.title('Number of Airbnbs over Room type')"
   ]
  },
  {
   "cell_type": "markdown",
   "metadata": {},
   "source": [
    "We can conclude that there is more \"Entire home/apt\" in the dataset."
   ]
  },
  {
   "cell_type": "markdown",
   "metadata": {},
   "source": [
    "Finally, the last question to answer: Which host has more airbnbs in the dataset?"
   ]
  },
  {
   "cell_type": "code",
   "execution_count": 30,
   "metadata": {},
   "outputs": [
    {
     "data": {
      "text/plain": [
       "Text(0.5, 1.0, 'Number of Airbnbs over Host id')"
      ]
     },
     "execution_count": 30,
     "metadata": {},
     "output_type": "execute_result"
    },
    {
     "data": {
      "image/png": "[encoded data removed]",
      "text/plain": [
       "<Figure size 576x432 with 1 Axes>"
      ]
     },
     "metadata": {
      "needs_background": "light"
     },
     "output_type": "display_data"
    }
   ],
   "source": [
    "base_color = sb.color_palette('colorblind')[0]\n",
    "sb.countplot(data=df_analytics, x='host_name', color=base_color, order = df_analytics['host_name'].value_counts().head(10).index);\n",
    "plt.xlabel('Host name');\n",
    "plt.ylabel('Count');\n",
    "plt.title('Number of Airbnbs over Host id')"
   ]
  },
  {
   "cell_type": "markdown",
   "metadata": {},
   "source": [
    "The host called Zencity is the host that has more airbnb in Chicago."
   ]
  },
  {
   "cell_type": "code",
   "execution_count": 31,
   "metadata": {},
   "outputs": [
    {
     "data": {
      "text/plain": [
       "Text(0.5, 1.0, 'Number of Airbnbs over Neighbourhood')"
      ]
     },
     "execution_count": 31,
     "metadata": {},
     "output_type": "execute_result"
    },
    {
     "data": {
      "image/png": "[encoded data removed]",
      "text/plain": [
       "<Figure size 1080x432 with 1 Axes>"
      ]
     },
     "metadata": {
      "needs_background": "light"
     },
     "output_type": "display_data"
    }
   ],
   "source": [
    "plt.rcParams['figure.figsize'] = 15, 6\n",
    "base_color = sb.color_palette('colorblind')[0]\n",
    "sb.countplot(data=df_analytics, x='neighbourhood', color=base_color, order = df_analytics['neighbourhood'].value_counts().head(10).index);\n",
    "plt.xlabel('Neighbourhood');\n",
    "plt.ylabel('Count');\n",
    "plt.title('Number of Airbnbs over Neighbourhood')"
   ]
  },
  {
   "cell_type": "markdown",
   "metadata": {},
   "source": [
    "There is more airbnbs in West Town."
   ]
  },
  {
   "cell_type": "markdown",
   "metadata": {},
   "source": [
    "### Discuss the distribution(s) of your variable(s) of interest. Were there any unusual points? Did you need to perform any transformations?\n",
    "\n",
    "There are some insights about:\n",
    "- There is more airbnbs with price between 60 and 80 dollars.\n",
    "- The most airbnbs are located between latitude 41.9 and 42.2.\n",
    "- The most airbnbs are located between longitude -87.7 and -87.6.\n",
    "- The most commom airbnb is located between (41.9, -87.7) and (42.2, -87.6).\n",
    "- There is more \"Entire home/apt\" in the dataset.\n",
    "- The host called Zencity is the host that has more airbnb in Chicago.\n",
    "- There is more airbnbs in West Town.\n",
    "\n",
    "\n",
    "No transformation was needed.\n",
    "\n",
    "### Of the features you investigated, were there any unusual distributions? Did you perform any operations on the data to tidy, adjust, or change the form of the data? If so, why did you do this?\n",
    "\n",
    "The distribution of price was an unsual, with a massive volume up to 300 dollars, so I dropped the outliers usign .query(), for analyze the main cases.\n",
    "\n",
    "\n",
    "## Bivariate Exploration"
   ]
  },
  {
   "cell_type": "markdown",
   "metadata": {},
   "source": [
    "Relation between Price and Neighbourhood"
   ]
  },
  {
   "cell_type": "code",
   "execution_count": 32,
   "metadata": {},
   "outputs": [
    {
     "data": {
      "image/png": "[encoded data removed]",
      "text/plain": [
       "<Figure size 1080x432 with 1 Axes>"
      ]
     },
     "metadata": {
      "needs_background": "light"
     },
     "output_type": "display_data"
    }
   ],
   "source": [
    "sb.barplot(data=df_analytics, x='neighbourhood', y='price', color=base_color, order = df_analytics['neighbourhood'].value_counts().head(10).index);\n",
    "plt.xlabel('neighbourhood');\n",
    "plt.ylabel('Avg. Price');"
   ]
  },
  {
   "cell_type": "code",
   "execution_count": 33,
   "metadata": {},
   "outputs": [
    {
     "data": {
      "image/png": "[encoded data removed]",
      "text/plain": [
       "<Figure size 1080x432 with 1 Axes>"
      ]
     },
     "metadata": {
      "needs_background": "light"
     },
     "output_type": "display_data"
    }
   ],
   "source": [
    "sb.boxplot(data=df_analytics, x='neighbourhood', y='price', color=base_color,order = df_analytics['neighbourhood'].value_counts().head(10).index );\n",
    "plt.xlabel('Room Type');\n",
    "plt.ylabel('Price');"
   ]
  },
  {
   "cell_type": "markdown",
   "metadata": {},
   "source": [
    "The airbnbs located on Loop, Near Noth Side, and Lincoln Park are the most expensive."
   ]
  },
  {
   "cell_type": "markdown",
   "metadata": {},
   "source": [
    "Relation between Price and Room Type"
   ]
  },
  {
   "cell_type": "code",
   "execution_count": 34,
   "metadata": {},
   "outputs": [
    {
     "data": {
      "image/png": "[encoded data removed]",
      "text/plain": [
       "<Figure size 1080x432 with 1 Axes>"
      ]
     },
     "metadata": {
      "needs_background": "light"
     },
     "output_type": "display_data"
    }
   ],
   "source": [
    "sb.boxplot(data=df_analytics, x='room_type', y='price', color=base_color );\n",
    "plt.xlabel('Room Type');\n",
    "plt.ylabel('Price');"
   ]
  },
  {
   "cell_type": "markdown",
   "metadata": {},
   "source": [
    "We can conclude that the room type \"Entire home/apt\" is the most expensive. It's possible to see that Hotel room has the most variable price, ranging from less than 50 to almost 150."
   ]
  },
  {
   "cell_type": "markdown",
   "metadata": {},
   "source": [
    "Relation between room type and neighbourhood"
   ]
  },
  {
   "cell_type": "code",
   "execution_count": 35,
   "metadata": {},
   "outputs": [
    {
     "data": {
      "text/html": [
       "<div>\n",
       "<style scoped>\n",
       "    .dataframe tbody tr th:only-of-type {\n",
       "        vertical-align: middle;\n",
       "    }\n",
       "\n",
       "    .dataframe tbody tr th {\n",
       "        vertical-align: top;\n",
       "    }\n",
       "\n",
       "    .dataframe thead th {\n",
       "        text-align: right;\n",
       "    }\n",
       "</style>\n",
       "<table border=\"1\" class=\"dataframe\">\n",
       "  <thead>\n",
       "    <tr style=\"text-align: right;\">\n",
       "      <th></th>\n",
       "      <th>id</th>\n",
       "      <th>name</th>\n",
       "      <th>host_id</th>\n",
       "      <th>host_name</th>\n",
       "      <th>neighbourhood</th>\n",
       "      <th>latitude</th>\n",
       "      <th>longitude</th>\n",
       "      <th>room_type</th>\n",
       "      <th>price</th>\n",
       "      <th>minimum_nights</th>\n",
       "      <th>number_of_reviews</th>\n",
       "      <th>last_review</th>\n",
       "      <th>reviews_per_month</th>\n",
       "      <th>calculated_host_listings_count</th>\n",
       "      <th>availability_365</th>\n",
       "    </tr>\n",
       "  </thead>\n",
       "  <tbody>\n",
       "    <tr>\n",
       "      <th>2</th>\n",
       "      <td>7126</td>\n",
       "      <td>Tiny Studio Apartment 94 Walk Score</td>\n",
       "      <td>17928</td>\n",
       "      <td>Sarah</td>\n",
       "      <td>West Town</td>\n",
       "      <td>41.90289</td>\n",
       "      <td>-87.68182</td>\n",
       "      <td>Entire home/apt</td>\n",
       "      <td>60</td>\n",
       "      <td>2</td>\n",
       "      <td>384</td>\n",
       "      <td>2020-03-08</td>\n",
       "      <td>2.81</td>\n",
       "      <td>1</td>\n",
       "      <td>321</td>\n",
       "    </tr>\n",
       "    <tr>\n",
       "      <th>3</th>\n",
       "      <td>9811</td>\n",
       "      <td>Barbara's Hideaway - Old Town</td>\n",
       "      <td>33004</td>\n",
       "      <td>At Home Inn</td>\n",
       "      <td>Lincoln Park</td>\n",
       "      <td>41.91769</td>\n",
       "      <td>-87.63788</td>\n",
       "      <td>Entire home/apt</td>\n",
       "      <td>65</td>\n",
       "      <td>4</td>\n",
       "      <td>49</td>\n",
       "      <td>2019-10-23</td>\n",
       "      <td>0.63</td>\n",
       "      <td>9</td>\n",
       "      <td>300</td>\n",
       "    </tr>\n",
       "    <tr>\n",
       "      <th>5</th>\n",
       "      <td>10945</td>\n",
       "      <td>The Biddle House (#1)</td>\n",
       "      <td>33004</td>\n",
       "      <td>At Home Inn</td>\n",
       "      <td>Lincoln Park</td>\n",
       "      <td>41.91183</td>\n",
       "      <td>-87.64000</td>\n",
       "      <td>Entire home/apt</td>\n",
       "      <td>115</td>\n",
       "      <td>4</td>\n",
       "      <td>19</td>\n",
       "      <td>2020-08-06</td>\n",
       "      <td>0.24</td>\n",
       "      <td>9</td>\n",
       "      <td>325</td>\n",
       "    </tr>\n",
       "    <tr>\n",
       "      <th>6</th>\n",
       "      <td>12068</td>\n",
       "      <td>Chicago GOLD COAST 1 Bedroom Condo</td>\n",
       "      <td>40731</td>\n",
       "      <td>Dominic</td>\n",
       "      <td>Near North Side</td>\n",
       "      <td>41.90452</td>\n",
       "      <td>-87.63320</td>\n",
       "      <td>Entire home/apt</td>\n",
       "      <td>99</td>\n",
       "      <td>5</td>\n",
       "      <td>9</td>\n",
       "      <td>2019-01-14</td>\n",
       "      <td>0.13</td>\n",
       "      <td>1</td>\n",
       "      <td>316</td>\n",
       "    </tr>\n",
       "    <tr>\n",
       "      <th>7</th>\n",
       "      <td>12140</td>\n",
       "      <td>Lincoln Park Guest House</td>\n",
       "      <td>46734</td>\n",
       "      <td>Sharon And Robert</td>\n",
       "      <td>Lincoln Park</td>\n",
       "      <td>41.92335</td>\n",
       "      <td>-87.64951</td>\n",
       "      <td>Private room</td>\n",
       "      <td>289</td>\n",
       "      <td>2</td>\n",
       "      <td>4</td>\n",
       "      <td>2018-10-17</td>\n",
       "      <td>0.06</td>\n",
       "      <td>1</td>\n",
       "      <td>179</td>\n",
       "    </tr>\n",
       "  </tbody>\n",
       "</table>\n",
       "</div>"
      ],
      "text/plain": [
       "      id                                 name host_id          host_name  \\\n",
       "2   7126  Tiny Studio Apartment 94 Walk Score   17928              Sarah   \n",
       "3   9811        Barbara's Hideaway - Old Town   33004        At Home Inn   \n",
       "5  10945                The Biddle House (#1)   33004        At Home Inn   \n",
       "6  12068   Chicago GOLD COAST 1 Bedroom Condo   40731            Dominic   \n",
       "7  12140             Lincoln Park Guest House   46734  Sharon And Robert   \n",
       "\n",
       "     neighbourhood  latitude  longitude        room_type  price  \\\n",
       "2        West Town  41.90289  -87.68182  Entire home/apt     60   \n",
       "3     Lincoln Park  41.91769  -87.63788  Entire home/apt     65   \n",
       "5     Lincoln Park  41.91183  -87.64000  Entire home/apt    115   \n",
       "6  Near North Side  41.90452  -87.63320  Entire home/apt     99   \n",
       "7     Lincoln Park  41.92335  -87.64951     Private room    289   \n",
       "\n",
       "   minimum_nights  number_of_reviews last_review  reviews_per_month  \\\n",
       "2               2                384  2020-03-08               2.81   \n",
       "3               4                 49  2019-10-23               0.63   \n",
       "5               4                 19  2020-08-06               0.24   \n",
       "6               5                  9  2019-01-14               0.13   \n",
       "7               2                  4  2018-10-17               0.06   \n",
       "\n",
       "   calculated_host_listings_count  availability_365  \n",
       "2                               1               321  \n",
       "3                               9               300  \n",
       "5                               9               325  \n",
       "6                               1               316  \n",
       "7                               1               179  "
      ]
     },
     "execution_count": 35,
     "metadata": {},
     "output_type": "execute_result"
    }
   ],
   "source": [
    "df_analytics_order = df_analytics['neighbourhood'].value_counts().head(6)\n",
    "neig = list(df_analytics_order.index)\n",
    "\n",
    "df_analytics_order2 = df_analytics.query('neighbourhood == \"'+neig[0]+'\" or neighbourhood == \"'+neig[1]+'\" or neighbourhood == \"'+neig[2]+'\" or neighbourhood == \"'+neig[3]+'\" or neighbourhood == \"'+neig[4]+'\" or neighbourhood == \"'+neig[5]+'\"')\n",
    "df_analytics_order2.head()"
   ]
  },
  {
   "cell_type": "code",
   "execution_count": 36,
   "metadata": {
    "scrolled": false
   },
   "outputs": [
    {
     "data": {
      "text/plain": [
       "<AxesSubplot:xlabel='neighbourhood', ylabel='count'>"
      ]
     },
     "execution_count": 36,
     "metadata": {},
     "output_type": "execute_result"
    },
    {
     "data": {
      "image/png": "[encoded data removed]",
      "text/plain": [
       "<Figure size 1080x432 with 1 Axes>"
      ]
     },
     "metadata": {
      "needs_background": "light"
     },
     "output_type": "display_data"
    }
   ],
   "source": [
    "sb.countplot(data = df_analytics_order2, x = 'neighbourhood', hue = 'room_type')"
   ]
  },
  {
   "cell_type": "markdown",
   "metadata": {},
   "source": [
    "We can conclude that West Town has the bigger number of Entire home/apt and private room, in number of hotel room, Near North Side has the most, and finally, Lake View has the biger number of shared room."
   ]
  },
  {
   "cell_type": "markdown",
   "metadata": {},
   "source": [
    "### Talk about some of the relationships you observed in this part of the investigation. How did the feature(s) of interest vary with other features in the dataset?\n",
    "\n",
    "When we look on the relationship between price and neighbourhood, the airbnbs located on Loop, Near Noth Side, and Lincoln Park are the most expensive. Now, analyzing price and room type, we can conclude that the room type \"Entire home/apt\" is the most expensive. It's possible to see that Hotel room has the most variable price, ranging from less than 50 to almost 150. Finally, studing the relation between neighbourhood and room type, we can conclude that West Town has the bigger number of Entire home/apt and private room, in number of hotel room, Near North Side has the most, and finally, Lake View has the biger number of shared room.  \n",
    "\n",
    "### Did you observe any interesting relationships between the other features (not the main feature(s) of interest)?\n",
    "\n",
    "It is interesting to see that west Town has the bigger number of entire home/apt, that is the room type most expensive, and the Loop, that has less entire home/apt, have the bigger average price. So, that point need to be clear in the multivariate exploration.\n",
    "\n",
    "\n",
    "## Multivariate Exploration\n",
    "\n",
    "How does the distribution of price between latitude and longitude?"
   ]
  },
  {
   "cell_type": "code",
   "execution_count": 37,
   "metadata": {},
   "outputs": [
    {
     "name": "stderr",
     "output_type": "stream",
     "text": [
      "/Users/brunobarreto/anaconda3/lib/python3.8/site-packages/seaborn/_decorators.py:36: FutureWarning: Pass the following variables as keyword args: x, y. From version 0.12, the only valid positional argument will be `data`, and passing other arguments without an explicit keyword will result in an error or misinterpretation.\n",
      "  warnings.warn(\n"
     ]
    },
    {
     "data": {
      "text/plain": [
       "<AxesSubplot:xlabel='longitude', ylabel='latitude'>"
      ]
     },
     "execution_count": 37,
     "metadata": {},
     "output_type": "execute_result"
    },
    {
     "data": {
      "image/png": "[encoded data removed]",
      "text/plain": [
       "<Figure size 720x432 with 1 Axes>"
      ]
     },
     "metadata": {
      "needs_background": "light"
     },
     "output_type": "display_data"
    }
   ],
   "source": [
    "plt.figure(figsize=(10,6))\n",
    "sb.scatterplot(df_analytics.longitude,df_analytics.latitude,hue=df_analytics.price)"
   ]
  },
  {
   "cell_type": "markdown",
   "metadata": {},
   "source": [
    "We can see here that there is a zone that has more expensive airbnbs, this zone is located between -87.65 and -87.60 longitude and 41.85 and 41.90 latitude."
   ]
  },
  {
   "cell_type": "code",
   "execution_count": 46,
   "metadata": {
    "scrolled": false
   },
   "outputs": [
    {
     "data": {
      "image/png": "[encoded data removed]",
      "text/plain": [
       "<Figure size 1080x432 with 1 Axes>"
      ]
     },
     "metadata": {
      "needs_background": "light"
     },
     "output_type": "display_data"
    }
   ],
   "source": [
    "sb.barplot(data=df_analytics, x='neighbourhood', y='price', hue='room_type', order = df_analytics['neighbourhood'].value_counts().head(10).index);\n",
    "plt.xlabel('neighbourhood');\n",
    "plt.ylabel('Avg. Price');"
   ]
  },
  {
   "cell_type": "markdown",
   "metadata": {},
   "source": [
    "Although West Town has more airbnbs and more entire home/apt than Loop, the second has an average price of this room type, which impacts the global average price."
   ]
  },
  {
   "cell_type": "markdown",
   "metadata": {},
   "source": [
    "### Talk about some of the relationships you observed in this part of the investigation. Were there features that strengthened each other in terms of looking at your feature(s) of interest?\n",
    "\n",
    "The multivariate exploration strengthened some of the patterns discovered in the previous bivariate exploration as well as univariate exploration, the relationship between the multiple variables plotted are visualized altogether and information are presented combined. Although West Town has more airbnbs and more entire home/apt than Loop, the second has an average price of this room type, which impacts the global average price. Finally, we can see here that there is a zone that has more expensive airbnbs, this zone is located between -87.65 and -87.60 longitude and 41.85 and 41.90 latitude. Perhaps the reason is that this zone is the center of Chicago.\n",
    "\n",
    "### Were there any interesting or surprising interactions between features?\n",
    "\n",
    "The relation between neighbors, room type, and the price is very interesting because in univariate exploration we see West Town as the place that has more airbnbs in Chicago. When we look at the bivariate, we can see that Loop is the most expensive, and the entire home/apt is the room type is the most expensive, but West Town has the bigger number of this room type, which makes us confused. Finally, in the multivariate exploration, we can see these three features together in one graph, and understand the behavior."
   ]
  },
  {
   "cell_type": "code",
   "execution_count": 47,
   "metadata": {},
   "outputs": [],
   "source": [
    "df_analytics.to_csv('chicago_airbnb_data.csv', index=False)"
   ]
  }
 ],
 "metadata": {
  "kernelspec": {
   "display_name": "Python 3",
   "language": "python",
   "name": "python3"
  },
  "language_info": {
   "codemirror_mode": {
    "name": "ipython",
    "version": 3
   },
   "file_extension": ".py",
   "mimetype": "text/x-python",
   "name": "python",
   "nbconvert_exporter": "python",
   "pygments_lexer": "ipython3",
   "version": "3.8.5"
  }
 },
 "nbformat": 4,
 "nbformat_minor": 4
}
